{
 "cells": [
  {
   "cell_type": "code",
   "execution_count": 14,
   "metadata": {},
   "outputs": [],
   "source": [
    "import pandas as pd"
   ]
  },
  {
   "cell_type": "code",
   "execution_count": 16,
   "metadata": {},
   "outputs": [
    {
     "data": {
      "text/plain": [
       "Unnamed: 0                                                                                                     0\n",
       "Identifier for VIVIENDA                                                                                  2353463\n",
       "Tipo de vivienda agrupado                                                                             Particular\n",
       "Tipo de vivienda particular                                                                                 Casa\n",
       "Area Urbano - Rural                                                                                       Urbano\n",
       "DPTO                                                                                                   Comuna 01\n",
       "PROV                                                                             Ciudad Autónoma de Buenos Aires\n",
       "Identifier for HOGAR                                                                                     2491115\n",
       "Tenencia de agua                                                               Por cañeria dentro de la vivienda\n",
       "Procedencia del agua para beber y cocinar                                                            Red pública\n",
       "Tiene baño / letrina                                                                                          Sí\n",
       "Computadora                                                                                                   Sí\n",
       "Teléfono celular                                                                                              Sí\n",
       "Tenencia de Electricidad                                                                                 Por red\n",
       "Régimen de tenencia                                                                                    Inquilino\n",
       "Identifier for PERSONA                                                                                   8268899\n",
       "Sexo                                                                                                       Mujer\n",
       "Edad                                                                                                          23\n",
       "En que país nació                                                                                      Argentina\n",
       "Pais de nacimiento                                                                                 NOTAPPLICABLE\n",
       "Completó ese nivel                                                                                            Sí\n",
       "La semana pasada, trabajó al menos una hora                                                                   No\n",
       "La semana pasada, hizo alguna changa o algo para vender afuera                                                No\n",
       "La semana pasada, estuvo de licencia por vacaciones o enfermedad                                              No\n",
       "En las últimas 4 semanas, estuvo buscando trabajo                                                             No\n",
       "Cobertura de salud                                                  No tiene obra social, prepaga o plan estatal\n",
       "Año de llegada a la Argentina                                                                      NOTAPPLICABLE\n",
       "Recibe jubilación o pensión                                                                                   No\n",
       "Tipo de beneficio que recibe                                                                       NOTAPPLICABLE\n",
       "Categoría ocupacional                                                                              NOTAPPLICABLE\n",
       "Le descuentan para jubilación                                                                      NOTAPPLICABLE\n",
       "Aporta para jubilación                                                                             NOTAPPLICABLE\n",
       "Afrodescendiente                                                                                              No\n",
       "Indígena                                                                                                      No\n",
       "Máximo Nivel de Instrucción                                                                  Secundario completo\n",
       "Que Provincia Nació-Nombre                                                                                    34\n",
       "Condición de actividad                                                                                  Inactivo\n",
       "tipo de dificultades o limitaciones permanentes                                                    NOTAPPLICABLE\n",
       "IX_TOT                                                                                                         2\n",
       "Name: 0, dtype: object"
      ]
     },
     "execution_count": 16,
     "metadata": {},
     "output_type": "execute_result"
    }
   ],
   "source": [
    "crudos =pd.read_csv('crudos.csv')\n",
    "data = pd.read_csv('cocinado.csv')\n",
    "# print(crudos.iloc[0])\n",
    "data.iloc[0]"
   ]
  }
 ],
 "metadata": {
  "interpreter": {
   "hash": "e7370f93d1d0cde622a1f8e1c04877d8463912d04d973331ad4851f04de6915a"
  },
  "kernelspec": {
   "display_name": "Python 3.10.4 64-bit",
   "language": "python",
   "name": "python3"
  },
  "language_info": {
   "codemirror_mode": {
    "name": "ipython",
    "version": 3
   },
   "file_extension": ".py",
   "mimetype": "text/x-python",
   "name": "python",
   "nbconvert_exporter": "python",
   "pygments_lexer": "ipython3",
   "version": "3.10.4"
  },
  "orig_nbformat": 4
 },
 "nbformat": 4,
 "nbformat_minor": 2
}
